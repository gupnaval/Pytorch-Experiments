{
 "cells": [
  {
   "cell_type": "markdown",
   "metadata": {},
   "source": [
    "```Tensor can be created in 2 ways either directly from raw data and other by using numpy```"
   ]
  },
  {
   "cell_type": "code",
   "execution_count": 4,
   "metadata": {},
   "outputs": [],
   "source": [
    "import torch\n",
    "import numpy as np\n",
    "#Directly from data\n",
    "data = [[1, 2],[3, 4]]\n",
    "x_data = torch.tensor(data)\n",
    "\n",
    "#From a NumPy array\n",
    "np_array = np.array(data)\n",
    "x_np = torch.from_numpy(np_array)\n"
   ]
  },
  {
   "cell_type": "markdown",
   "metadata": {},
   "source": [
    "```Attributes of a Tensor which are shape, ndim, dtype, device```"
   ]
  },
  {
   "cell_type": "code",
   "execution_count": 7,
   "metadata": {},
   "outputs": [
    {
     "name": "stdout",
     "output_type": "stream",
     "text": [
      "tensor([[1, 2],\n",
      "        [3, 4]])\n",
      "Shape of tensor x_data torch.Size([2, 2])\n",
      "Dimension of tensor x_data 2\n",
      "Datatype of tensor x_data torch.int64\n",
      "Tensor x_data is on cpu\n",
      "tensor([[1, 2],\n",
      "        [3, 4]], dtype=torch.int32)\n",
      "Shape of tensor x_data torch.Size([2, 2])\n",
      "Dimension of tensor x_data 2\n",
      "Datatype of tensor x_data torch.int32\n",
      "Tensor x_data is on cpu\n"
     ]
    }
   ],
   "source": [
    "print(x_data)\n",
    "print(f'Shape of tensor x_data {x_data.shape}')\n",
    "print(f'Dimension of tensor x_data {x_data.ndim}')\n",
    "print(f'Datatype of tensor x_data {x_data.dtype}')\n",
    "print(f'Tensor x_data is on {x_data.device}')\n",
    "\n",
    "print(x_np)\n",
    "print(f'Shape of tensor x_data {x_np.shape}')\n",
    "print(f'Dimension of tensor x_data {x_np.ndim}')\n",
    "print(f'Datatype of tensor x_data {x_np.dtype}')\n",
    "print(f'Tensor x_data is on {x_np.device}')\n",
    "\n"
   ]
  }
 ],
 "metadata": {
  "kernelspec": {
   "display_name": "python_program_env",
   "language": "python",
   "name": "python3"
  },
  "language_info": {
   "codemirror_mode": {
    "name": "ipython",
    "version": 3
   },
   "file_extension": ".py",
   "mimetype": "text/x-python",
   "name": "python",
   "nbconvert_exporter": "python",
   "pygments_lexer": "ipython3",
   "version": "3.11.7"
  }
 },
 "nbformat": 4,
 "nbformat_minor": 2
}
